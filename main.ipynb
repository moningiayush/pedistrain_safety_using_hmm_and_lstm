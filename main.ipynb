{
  "nbformat": 4,
  "nbformat_minor": 0,
  "metadata": {
    "colab": {
      "provenance": []
    },
    "kernelspec": {
      "name": "python3",
      "display_name": "Python 3"
    },
    "language_info": {
      "name": "python"
    }
  },
  "cells": [
    {
      "cell_type": "code",
      "execution_count": null,
      "metadata": {
        "colab": {
          "base_uri": "https://localhost:8080/"
        },
        "id": "c5qaMiB05z2_",
        "outputId": "10cdf9cd-a512-4b5a-8c93-67389a654d68"
      },
      "outputs": [
        {
          "output_type": "stream",
          "name": "stdout",
          "text": [
            "Collecting tensorflow==2.8.0\n",
            "  Using cached tensorflow-2.8.0-cp310-cp310-manylinux2010_x86_64.whl.metadata (2.9 kB)\n",
            "Requirement already satisfied: absl-py>=0.4.0 in /usr/local/lib/python3.10/dist-packages (from tensorflow==2.8.0) (1.4.0)\n",
            "Requirement already satisfied: astunparse>=1.6.0 in /usr/local/lib/python3.10/dist-packages (from tensorflow==2.8.0) (1.6.3)\n",
            "Requirement already satisfied: flatbuffers>=1.12 in /usr/local/lib/python3.10/dist-packages (from tensorflow==2.8.0) (24.3.25)\n",
            "Requirement already satisfied: gast>=0.2.1 in /usr/local/lib/python3.10/dist-packages (from tensorflow==2.8.0) (0.6.0)\n",
            "Requirement already satisfied: google-pasta>=0.1.1 in /usr/local/lib/python3.10/dist-packages (from tensorflow==2.8.0) (0.2.0)\n",
            "Requirement already satisfied: h5py>=2.9.0 in /usr/local/lib/python3.10/dist-packages (from tensorflow==2.8.0) (3.11.0)\n",
            "Requirement already satisfied: keras-preprocessing>=1.1.1 in /usr/local/lib/python3.10/dist-packages (from tensorflow==2.8.0) (1.1.2)\n",
            "Requirement already satisfied: libclang>=9.0.1 in /usr/local/lib/python3.10/dist-packages (from tensorflow==2.8.0) (18.1.1)\n",
            "Requirement already satisfied: numpy>=1.20 in /usr/local/lib/python3.10/dist-packages (from tensorflow==2.8.0) (1.26.4)\n",
            "Requirement already satisfied: opt-einsum>=2.3.2 in /usr/local/lib/python3.10/dist-packages (from tensorflow==2.8.0) (3.3.0)\n",
            "Requirement already satisfied: protobuf>=3.9.2 in /usr/local/lib/python3.10/dist-packages (from tensorflow==2.8.0) (3.20.3)\n",
            "Requirement already satisfied: setuptools in /usr/local/lib/python3.10/dist-packages (from tensorflow==2.8.0) (71.0.4)\n",
            "Requirement already satisfied: six>=1.12.0 in /usr/local/lib/python3.10/dist-packages (from tensorflow==2.8.0) (1.16.0)\n",
            "Requirement already satisfied: termcolor>=1.1.0 in /usr/local/lib/python3.10/dist-packages (from tensorflow==2.8.0) (2.4.0)\n",
            "Requirement already satisfied: typing-extensions>=3.6.6 in /usr/local/lib/python3.10/dist-packages (from tensorflow==2.8.0) (4.12.2)\n",
            "Requirement already satisfied: wrapt>=1.11.0 in /usr/local/lib/python3.10/dist-packages (from tensorflow==2.8.0) (1.16.0)\n",
            "Collecting tensorboard<2.9,>=2.8 (from tensorflow==2.8.0)\n",
            "  Using cached tensorboard-2.8.0-py3-none-any.whl.metadata (1.9 kB)\n",
            "Requirement already satisfied: tf-estimator-nightly==2.8.0.dev2021122109 in /usr/local/lib/python3.10/dist-packages (from tensorflow==2.8.0) (2.8.0.dev2021122109)\n",
            "Collecting keras<2.9,>=2.8.0rc0 (from tensorflow==2.8.0)\n",
            "  Using cached keras-2.8.0-py2.py3-none-any.whl.metadata (1.3 kB)\n",
            "Requirement already satisfied: tensorflow-io-gcs-filesystem>=0.23.1 in /usr/local/lib/python3.10/dist-packages (from tensorflow==2.8.0) (0.37.1)\n",
            "Requirement already satisfied: grpcio<2.0,>=1.24.3 in /usr/local/lib/python3.10/dist-packages (from tensorflow==2.8.0) (1.64.1)\n",
            "Requirement already satisfied: wheel<1.0,>=0.23.0 in /usr/local/lib/python3.10/dist-packages (from astunparse>=1.6.0->tensorflow==2.8.0) (0.44.0)\n",
            "Requirement already satisfied: google-auth<3,>=1.6.3 in /usr/local/lib/python3.10/dist-packages (from tensorboard<2.9,>=2.8->tensorflow==2.8.0) (2.27.0)\n",
            "Requirement already satisfied: google-auth-oauthlib<0.5,>=0.4.1 in /usr/local/lib/python3.10/dist-packages (from tensorboard<2.9,>=2.8->tensorflow==2.8.0) (0.4.6)\n",
            "Requirement already satisfied: markdown>=2.6.8 in /usr/local/lib/python3.10/dist-packages (from tensorboard<2.9,>=2.8->tensorflow==2.8.0) (3.6)\n",
            "Requirement already satisfied: requests<3,>=2.21.0 in /usr/local/lib/python3.10/dist-packages (from tensorboard<2.9,>=2.8->tensorflow==2.8.0) (2.32.3)\n",
            "Collecting tensorboard-data-server<0.7.0,>=0.6.0 (from tensorboard<2.9,>=2.8->tensorflow==2.8.0)\n",
            "  Using cached tensorboard_data_server-0.6.1-py3-none-manylinux2010_x86_64.whl.metadata (1.1 kB)\n",
            "Requirement already satisfied: tensorboard-plugin-wit>=1.6.0 in /usr/local/lib/python3.10/dist-packages (from tensorboard<2.9,>=2.8->tensorflow==2.8.0) (1.8.1)\n",
            "Requirement already satisfied: werkzeug>=0.11.15 in /usr/local/lib/python3.10/dist-packages (from tensorboard<2.9,>=2.8->tensorflow==2.8.0) (3.0.3)\n",
            "Requirement already satisfied: cachetools<6.0,>=2.0.0 in /usr/local/lib/python3.10/dist-packages (from google-auth<3,>=1.6.3->tensorboard<2.9,>=2.8->tensorflow==2.8.0) (5.4.0)\n",
            "Requirement already satisfied: pyasn1-modules>=0.2.1 in /usr/local/lib/python3.10/dist-packages (from google-auth<3,>=1.6.3->tensorboard<2.9,>=2.8->tensorflow==2.8.0) (0.4.0)\n",
            "Requirement already satisfied: rsa<5,>=3.1.4 in /usr/local/lib/python3.10/dist-packages (from google-auth<3,>=1.6.3->tensorboard<2.9,>=2.8->tensorflow==2.8.0) (4.9)\n",
            "Requirement already satisfied: requests-oauthlib>=0.7.0 in /usr/local/lib/python3.10/dist-packages (from google-auth-oauthlib<0.5,>=0.4.1->tensorboard<2.9,>=2.8->tensorflow==2.8.0) (1.3.1)\n",
            "Requirement already satisfied: charset-normalizer<4,>=2 in /usr/local/lib/python3.10/dist-packages (from requests<3,>=2.21.0->tensorboard<2.9,>=2.8->tensorflow==2.8.0) (3.3.2)\n",
            "Requirement already satisfied: idna<4,>=2.5 in /usr/local/lib/python3.10/dist-packages (from requests<3,>=2.21.0->tensorboard<2.9,>=2.8->tensorflow==2.8.0) (3.7)\n",
            "Requirement already satisfied: urllib3<3,>=1.21.1 in /usr/local/lib/python3.10/dist-packages (from requests<3,>=2.21.0->tensorboard<2.9,>=2.8->tensorflow==2.8.0) (2.0.7)\n",
            "Requirement already satisfied: certifi>=2017.4.17 in /usr/local/lib/python3.10/dist-packages (from requests<3,>=2.21.0->tensorboard<2.9,>=2.8->tensorflow==2.8.0) (2024.7.4)\n",
            "Requirement already satisfied: MarkupSafe>=2.1.1 in /usr/local/lib/python3.10/dist-packages (from werkzeug>=0.11.15->tensorboard<2.9,>=2.8->tensorflow==2.8.0) (2.1.5)\n",
            "Requirement already satisfied: pyasn1<0.7.0,>=0.4.6 in /usr/local/lib/python3.10/dist-packages (from pyasn1-modules>=0.2.1->google-auth<3,>=1.6.3->tensorboard<2.9,>=2.8->tensorflow==2.8.0) (0.6.0)\n",
            "Requirement already satisfied: oauthlib>=3.0.0 in /usr/local/lib/python3.10/dist-packages (from requests-oauthlib>=0.7.0->google-auth-oauthlib<0.5,>=0.4.1->tensorboard<2.9,>=2.8->tensorflow==2.8.0) (3.2.2)\n",
            "Using cached tensorflow-2.8.0-cp310-cp310-manylinux2010_x86_64.whl (497.6 MB)\n",
            "Using cached keras-2.8.0-py2.py3-none-any.whl (1.4 MB)\n",
            "Using cached tensorboard-2.8.0-py3-none-any.whl (5.8 MB)\n",
            "Using cached tensorboard_data_server-0.6.1-py3-none-manylinux2010_x86_64.whl (4.9 MB)\n",
            "Installing collected packages: keras, tensorboard-data-server, tensorboard, tensorflow\n",
            "  Attempting uninstall: keras\n",
            "    Found existing installation: keras 3.5.0\n",
            "    Uninstalling keras-3.5.0:\n",
            "      Successfully uninstalled keras-3.5.0\n",
            "  Attempting uninstall: tensorboard-data-server\n",
            "    Found existing installation: tensorboard-data-server 0.7.2\n",
            "    Uninstalling tensorboard-data-server-0.7.2:\n",
            "      Successfully uninstalled tensorboard-data-server-0.7.2\n",
            "  Attempting uninstall: tensorboard\n",
            "    Found existing installation: tensorboard 2.17.1\n",
            "    Uninstalling tensorboard-2.17.1:\n",
            "      Successfully uninstalled tensorboard-2.17.1\n",
            "  Attempting uninstall: tensorflow\n",
            "    Found existing installation: tensorflow 2.17.0\n",
            "    Uninstalling tensorflow-2.17.0:\n",
            "      Successfully uninstalled tensorflow-2.17.0\n",
            "\u001b[31mERROR: pip's dependency resolver does not currently take into account all the packages that are installed. This behaviour is the source of the following dependency conflicts.\n",
            "tf-keras 2.17.0 requires tensorflow<2.18,>=2.17, but you have tensorflow 2.8.0 which is incompatible.\u001b[0m\u001b[31m\n",
            "\u001b[0mSuccessfully installed keras-2.8.0 tensorboard-2.8.0 tensorboard-data-server-0.6.1 tensorflow-2.8.0\n"
          ]
        }
      ],
      "source": [
        "!pip install tensorflow==2.8.0\n"
      ]
    },
    {
      "cell_type": "code",
      "source": [
        "!pip install --upgrade tensorflow\n"
      ],
      "metadata": {
        "colab": {
          "base_uri": "https://localhost:8080/"
        },
        "id": "vUDVy-Sn6kyp",
        "outputId": "883a8cae-4c2a-4f5c-b911-7461eebf9bb1"
      },
      "execution_count": null,
      "outputs": [
        {
          "output_type": "stream",
          "name": "stdout",
          "text": [
            "Requirement already satisfied: tensorflow in /usr/local/lib/python3.10/dist-packages (2.17.0)\n",
            "Requirement already satisfied: absl-py>=1.0.0 in /usr/local/lib/python3.10/dist-packages (from tensorflow) (1.4.0)\n",
            "Requirement already satisfied: astunparse>=1.6.0 in /usr/local/lib/python3.10/dist-packages (from tensorflow) (1.6.3)\n",
            "Requirement already satisfied: flatbuffers>=24.3.25 in /usr/local/lib/python3.10/dist-packages (from tensorflow) (24.3.25)\n",
            "Requirement already satisfied: gast!=0.5.0,!=0.5.1,!=0.5.2,>=0.2.1 in /usr/local/lib/python3.10/dist-packages (from tensorflow) (0.6.0)\n",
            "Requirement already satisfied: google-pasta>=0.1.1 in /usr/local/lib/python3.10/dist-packages (from tensorflow) (0.2.0)\n",
            "Requirement already satisfied: h5py>=3.10.0 in /usr/local/lib/python3.10/dist-packages (from tensorflow) (3.11.0)\n",
            "Requirement already satisfied: libclang>=13.0.0 in /usr/local/lib/python3.10/dist-packages (from tensorflow) (18.1.1)\n",
            "Requirement already satisfied: ml-dtypes<0.5.0,>=0.3.1 in /usr/local/lib/python3.10/dist-packages (from tensorflow) (0.4.0)\n",
            "Requirement already satisfied: opt-einsum>=2.3.2 in /usr/local/lib/python3.10/dist-packages (from tensorflow) (3.3.0)\n",
            "Requirement already satisfied: packaging in /usr/local/lib/python3.10/dist-packages (from tensorflow) (24.1)\n",
            "Requirement already satisfied: protobuf!=4.21.0,!=4.21.1,!=4.21.2,!=4.21.3,!=4.21.4,!=4.21.5,<5.0.0dev,>=3.20.3 in /usr/local/lib/python3.10/dist-packages (from tensorflow) (3.20.3)\n",
            "Requirement already satisfied: requests<3,>=2.21.0 in /usr/local/lib/python3.10/dist-packages (from tensorflow) (2.32.3)\n",
            "Requirement already satisfied: setuptools in /usr/local/lib/python3.10/dist-packages (from tensorflow) (71.0.4)\n",
            "Requirement already satisfied: six>=1.12.0 in /usr/local/lib/python3.10/dist-packages (from tensorflow) (1.16.0)\n",
            "Requirement already satisfied: termcolor>=1.1.0 in /usr/local/lib/python3.10/dist-packages (from tensorflow) (2.4.0)\n",
            "Requirement already satisfied: typing-extensions>=3.6.6 in /usr/local/lib/python3.10/dist-packages (from tensorflow) (4.12.2)\n",
            "Requirement already satisfied: wrapt>=1.11.0 in /usr/local/lib/python3.10/dist-packages (from tensorflow) (1.16.0)\n",
            "Requirement already satisfied: grpcio<2.0,>=1.24.3 in /usr/local/lib/python3.10/dist-packages (from tensorflow) (1.64.1)\n",
            "Requirement already satisfied: tensorboard<2.18,>=2.17 in /usr/local/lib/python3.10/dist-packages (from tensorflow) (2.17.1)\n",
            "Requirement already satisfied: keras>=3.2.0 in /usr/local/lib/python3.10/dist-packages (from tensorflow) (3.5.0)\n",
            "Requirement already satisfied: tensorflow-io-gcs-filesystem>=0.23.1 in /usr/local/lib/python3.10/dist-packages (from tensorflow) (0.37.1)\n",
            "Requirement already satisfied: numpy<2.0.0,>=1.23.5 in /usr/local/lib/python3.10/dist-packages (from tensorflow) (1.26.4)\n",
            "Requirement already satisfied: wheel<1.0,>=0.23.0 in /usr/local/lib/python3.10/dist-packages (from astunparse>=1.6.0->tensorflow) (0.44.0)\n",
            "Requirement already satisfied: rich in /usr/local/lib/python3.10/dist-packages (from keras>=3.2.0->tensorflow) (13.7.1)\n",
            "Requirement already satisfied: namex in /usr/local/lib/python3.10/dist-packages (from keras>=3.2.0->tensorflow) (0.0.8)\n",
            "Requirement already satisfied: optree in /usr/local/lib/python3.10/dist-packages (from keras>=3.2.0->tensorflow) (0.12.1)\n",
            "Requirement already satisfied: charset-normalizer<4,>=2 in /usr/local/lib/python3.10/dist-packages (from requests<3,>=2.21.0->tensorflow) (3.3.2)\n",
            "Requirement already satisfied: idna<4,>=2.5 in /usr/local/lib/python3.10/dist-packages (from requests<3,>=2.21.0->tensorflow) (3.7)\n",
            "Requirement already satisfied: urllib3<3,>=1.21.1 in /usr/local/lib/python3.10/dist-packages (from requests<3,>=2.21.0->tensorflow) (2.0.7)\n",
            "Requirement already satisfied: certifi>=2017.4.17 in /usr/local/lib/python3.10/dist-packages (from requests<3,>=2.21.0->tensorflow) (2024.7.4)\n",
            "Requirement already satisfied: markdown>=2.6.8 in /usr/local/lib/python3.10/dist-packages (from tensorboard<2.18,>=2.17->tensorflow) (3.6)\n",
            "Requirement already satisfied: tensorboard-data-server<0.8.0,>=0.7.0 in /usr/local/lib/python3.10/dist-packages (from tensorboard<2.18,>=2.17->tensorflow) (0.7.2)\n",
            "Requirement already satisfied: werkzeug>=1.0.1 in /usr/local/lib/python3.10/dist-packages (from tensorboard<2.18,>=2.17->tensorflow) (3.0.3)\n",
            "Requirement already satisfied: MarkupSafe>=2.1.1 in /usr/local/lib/python3.10/dist-packages (from werkzeug>=1.0.1->tensorboard<2.18,>=2.17->tensorflow) (2.1.5)\n",
            "Requirement already satisfied: markdown-it-py>=2.2.0 in /usr/local/lib/python3.10/dist-packages (from rich->keras>=3.2.0->tensorflow) (3.0.0)\n",
            "Requirement already satisfied: pygments<3.0.0,>=2.13.0 in /usr/local/lib/python3.10/dist-packages (from rich->keras>=3.2.0->tensorflow) (2.16.1)\n",
            "Requirement already satisfied: mdurl~=0.1 in /usr/local/lib/python3.10/dist-packages (from markdown-it-py>=2.2.0->rich->keras>=3.2.0->tensorflow) (0.1.2)\n"
          ]
        }
      ]
    },
    {
      "cell_type": "code",
      "source": [
        "!pip install tensorflow==2.8 hmmlearn\n"
      ],
      "metadata": {
        "colab": {
          "base_uri": "https://localhost:8080/"
        },
        "id": "WPvNJccE6Sl_",
        "outputId": "fa6cea06-1ed7-4df2-90b6-54dcc2f37ea3"
      },
      "execution_count": null,
      "outputs": [
        {
          "output_type": "stream",
          "name": "stdout",
          "text": [
            "Requirement already satisfied: tensorflow==2.8 in /usr/local/lib/python3.10/dist-packages (2.8.0)\n",
            "Collecting hmmlearn\n",
            "  Downloading hmmlearn-0.3.2-cp310-cp310-manylinux_2_17_x86_64.manylinux2014_x86_64.whl.metadata (2.9 kB)\n",
            "Requirement already satisfied: absl-py>=0.4.0 in /usr/local/lib/python3.10/dist-packages (from tensorflow==2.8) (1.4.0)\n",
            "Requirement already satisfied: astunparse>=1.6.0 in /usr/local/lib/python3.10/dist-packages (from tensorflow==2.8) (1.6.3)\n",
            "Requirement already satisfied: flatbuffers>=1.12 in /usr/local/lib/python3.10/dist-packages (from tensorflow==2.8) (24.3.25)\n",
            "Requirement already satisfied: gast>=0.2.1 in /usr/local/lib/python3.10/dist-packages (from tensorflow==2.8) (0.6.0)\n",
            "Requirement already satisfied: google-pasta>=0.1.1 in /usr/local/lib/python3.10/dist-packages (from tensorflow==2.8) (0.2.0)\n",
            "Requirement already satisfied: h5py>=2.9.0 in /usr/local/lib/python3.10/dist-packages (from tensorflow==2.8) (3.11.0)\n",
            "Requirement already satisfied: keras-preprocessing>=1.1.1 in /usr/local/lib/python3.10/dist-packages (from tensorflow==2.8) (1.1.2)\n",
            "Requirement already satisfied: libclang>=9.0.1 in /usr/local/lib/python3.10/dist-packages (from tensorflow==2.8) (18.1.1)\n",
            "Requirement already satisfied: numpy>=1.20 in /usr/local/lib/python3.10/dist-packages (from tensorflow==2.8) (1.26.4)\n",
            "Requirement already satisfied: opt-einsum>=2.3.2 in /usr/local/lib/python3.10/dist-packages (from tensorflow==2.8) (3.3.0)\n",
            "Requirement already satisfied: protobuf>=3.9.2 in /usr/local/lib/python3.10/dist-packages (from tensorflow==2.8) (3.20.3)\n",
            "Requirement already satisfied: setuptools in /usr/local/lib/python3.10/dist-packages (from tensorflow==2.8) (71.0.4)\n",
            "Requirement already satisfied: six>=1.12.0 in /usr/local/lib/python3.10/dist-packages (from tensorflow==2.8) (1.16.0)\n",
            "Requirement already satisfied: termcolor>=1.1.0 in /usr/local/lib/python3.10/dist-packages (from tensorflow==2.8) (2.4.0)\n",
            "Requirement already satisfied: typing-extensions>=3.6.6 in /usr/local/lib/python3.10/dist-packages (from tensorflow==2.8) (4.12.2)\n",
            "Requirement already satisfied: wrapt>=1.11.0 in /usr/local/lib/python3.10/dist-packages (from tensorflow==2.8) (1.16.0)\n",
            "Requirement already satisfied: tensorboard<2.9,>=2.8 in /usr/local/lib/python3.10/dist-packages (from tensorflow==2.8) (2.8.0)\n",
            "Requirement already satisfied: tf-estimator-nightly==2.8.0.dev2021122109 in /usr/local/lib/python3.10/dist-packages (from tensorflow==2.8) (2.8.0.dev2021122109)\n",
            "Requirement already satisfied: keras<2.9,>=2.8.0rc0 in /usr/local/lib/python3.10/dist-packages (from tensorflow==2.8) (2.8.0)\n",
            "Requirement already satisfied: tensorflow-io-gcs-filesystem>=0.23.1 in /usr/local/lib/python3.10/dist-packages (from tensorflow==2.8) (0.37.1)\n",
            "Requirement already satisfied: grpcio<2.0,>=1.24.3 in /usr/local/lib/python3.10/dist-packages (from tensorflow==2.8) (1.64.1)\n",
            "Requirement already satisfied: scikit-learn!=0.22.0,>=0.16 in /usr/local/lib/python3.10/dist-packages (from hmmlearn) (1.3.2)\n",
            "Requirement already satisfied: scipy>=0.19 in /usr/local/lib/python3.10/dist-packages (from hmmlearn) (1.13.1)\n",
            "Requirement already satisfied: wheel<1.0,>=0.23.0 in /usr/local/lib/python3.10/dist-packages (from astunparse>=1.6.0->tensorflow==2.8) (0.44.0)\n",
            "Requirement already satisfied: joblib>=1.1.1 in /usr/local/lib/python3.10/dist-packages (from scikit-learn!=0.22.0,>=0.16->hmmlearn) (1.4.2)\n",
            "Requirement already satisfied: threadpoolctl>=2.0.0 in /usr/local/lib/python3.10/dist-packages (from scikit-learn!=0.22.0,>=0.16->hmmlearn) (3.5.0)\n",
            "Requirement already satisfied: google-auth<3,>=1.6.3 in /usr/local/lib/python3.10/dist-packages (from tensorboard<2.9,>=2.8->tensorflow==2.8) (2.27.0)\n",
            "Requirement already satisfied: google-auth-oauthlib<0.5,>=0.4.1 in /usr/local/lib/python3.10/dist-packages (from tensorboard<2.9,>=2.8->tensorflow==2.8) (0.4.6)\n",
            "Requirement already satisfied: markdown>=2.6.8 in /usr/local/lib/python3.10/dist-packages (from tensorboard<2.9,>=2.8->tensorflow==2.8) (3.6)\n",
            "Requirement already satisfied: requests<3,>=2.21.0 in /usr/local/lib/python3.10/dist-packages (from tensorboard<2.9,>=2.8->tensorflow==2.8) (2.32.3)\n",
            "Requirement already satisfied: tensorboard-data-server<0.7.0,>=0.6.0 in /usr/local/lib/python3.10/dist-packages (from tensorboard<2.9,>=2.8->tensorflow==2.8) (0.6.1)\n",
            "Requirement already satisfied: tensorboard-plugin-wit>=1.6.0 in /usr/local/lib/python3.10/dist-packages (from tensorboard<2.9,>=2.8->tensorflow==2.8) (1.8.1)\n",
            "Requirement already satisfied: werkzeug>=0.11.15 in /usr/local/lib/python3.10/dist-packages (from tensorboard<2.9,>=2.8->tensorflow==2.8) (3.0.3)\n",
            "Requirement already satisfied: cachetools<6.0,>=2.0.0 in /usr/local/lib/python3.10/dist-packages (from google-auth<3,>=1.6.3->tensorboard<2.9,>=2.8->tensorflow==2.8) (5.4.0)\n",
            "Requirement already satisfied: pyasn1-modules>=0.2.1 in /usr/local/lib/python3.10/dist-packages (from google-auth<3,>=1.6.3->tensorboard<2.9,>=2.8->tensorflow==2.8) (0.4.0)\n",
            "Requirement already satisfied: rsa<5,>=3.1.4 in /usr/local/lib/python3.10/dist-packages (from google-auth<3,>=1.6.3->tensorboard<2.9,>=2.8->tensorflow==2.8) (4.9)\n",
            "Requirement already satisfied: requests-oauthlib>=0.7.0 in /usr/local/lib/python3.10/dist-packages (from google-auth-oauthlib<0.5,>=0.4.1->tensorboard<2.9,>=2.8->tensorflow==2.8) (1.3.1)\n",
            "Requirement already satisfied: charset-normalizer<4,>=2 in /usr/local/lib/python3.10/dist-packages (from requests<3,>=2.21.0->tensorboard<2.9,>=2.8->tensorflow==2.8) (3.3.2)\n",
            "Requirement already satisfied: idna<4,>=2.5 in /usr/local/lib/python3.10/dist-packages (from requests<3,>=2.21.0->tensorboard<2.9,>=2.8->tensorflow==2.8) (3.7)\n",
            "Requirement already satisfied: urllib3<3,>=1.21.1 in /usr/local/lib/python3.10/dist-packages (from requests<3,>=2.21.0->tensorboard<2.9,>=2.8->tensorflow==2.8) (2.0.7)\n",
            "Requirement already satisfied: certifi>=2017.4.17 in /usr/local/lib/python3.10/dist-packages (from requests<3,>=2.21.0->tensorboard<2.9,>=2.8->tensorflow==2.8) (2024.7.4)\n",
            "Requirement already satisfied: MarkupSafe>=2.1.1 in /usr/local/lib/python3.10/dist-packages (from werkzeug>=0.11.15->tensorboard<2.9,>=2.8->tensorflow==2.8) (2.1.5)\n",
            "Requirement already satisfied: pyasn1<0.7.0,>=0.4.6 in /usr/local/lib/python3.10/dist-packages (from pyasn1-modules>=0.2.1->google-auth<3,>=1.6.3->tensorboard<2.9,>=2.8->tensorflow==2.8) (0.6.0)\n",
            "Requirement already satisfied: oauthlib>=3.0.0 in /usr/local/lib/python3.10/dist-packages (from requests-oauthlib>=0.7.0->google-auth-oauthlib<0.5,>=0.4.1->tensorboard<2.9,>=2.8->tensorflow==2.8) (3.2.2)\n",
            "Downloading hmmlearn-0.3.2-cp310-cp310-manylinux_2_17_x86_64.manylinux2014_x86_64.whl (161 kB)\n",
            "\u001b[2K   \u001b[90m━━━━━━━━━━━━━━━━━━━━━━━━━━━━━━━━━━━━━━━━\u001b[0m \u001b[32m161.1/161.1 kB\u001b[0m \u001b[31m12.1 MB/s\u001b[0m eta \u001b[36m0:00:00\u001b[0m\n",
            "\u001b[?25hInstalling collected packages: hmmlearn\n",
            "Successfully installed hmmlearn-0.3.2\n"
          ]
        }
      ]
    },
    {
      "cell_type": "code",
      "source": [
        "import pandas as pd\n",
        "import numpy as np\n",
        "from sklearn.preprocessing import MinMaxScaler\n",
        "from sklearn.model_selection import train_test_split\n",
        "import tensorflow as tf\n",
        "from tensorflow.keras.models import Sequential\n",
        "from tensorflow.keras.layers import LSTM, Dense\n",
        "from hmmlearn import hmm"
      ],
      "metadata": {
        "id": "AwQ6v-IY6bKa"
      },
      "execution_count": null,
      "outputs": []
    },
    {
      "cell_type": "code",
      "source": [
        "import tensorflow as tf\n",
        "print(tf.__version__)\n"
      ],
      "metadata": {
        "colab": {
          "base_uri": "https://localhost:8080/"
        },
        "id": "f1t8nBJ66hmd",
        "outputId": "f6838ef6-7b3c-427e-d838-90931344f59b"
      },
      "execution_count": null,
      "outputs": [
        {
          "output_type": "stream",
          "name": "stdout",
          "text": [
            "2.8.0\n"
          ]
        }
      ]
    },
    {
      "cell_type": "code",
      "source": [
        "import pandas as pd\n",
        "import numpy as np\n",
        "from sklearn.preprocessing import MinMaxScaler, LabelEncoder\n",
        "from sklearn.model_selection import train_test_split\n",
        "import tensorflow as tf\n",
        "from tensorflow.keras.models import Sequential\n",
        "from tensorflow.keras.layers import LSTM, Dense\n",
        "from hmmlearn import hmm"
      ],
      "metadata": {
        "id": "uSmiQIBw7Xsp"
      },
      "execution_count": null,
      "outputs": []
    },
    {
      "cell_type": "code",
      "source": [
        "# Load the dataset\n",
        "data = pd.read_csv('/content/test_motion_data.csv')"
      ],
      "metadata": {
        "id": "zceAesEH7gki"
      },
      "execution_count": null,
      "outputs": []
    },
    {
      "cell_type": "code",
      "source": [
        "# Display the first few rows of the dataset\n",
        "print(data.head())"
      ],
      "metadata": {
        "colab": {
          "base_uri": "https://localhost:8080/"
        },
        "id": "WQBZoyRJ7m7P",
        "outputId": "5b5f2485-bdc6-4e46-8867-343ae8aa1109"
      },
      "execution_count": null,
      "outputs": [
        {
          "output_type": "stream",
          "name": "stdout",
          "text": [
            "       AccX      AccY      AccZ     GyroX     GyroY     GyroZ       Class  \\\n",
            "0  0.758194 -0.217791  0.457263  0.000000  0.000000  0.000000  AGGRESSIVE   \n",
            "1  0.667560 -0.038610  0.231416 -0.054367 -0.007712  0.225257  AGGRESSIVE   \n",
            "2  2.724449 -7.584121  2.390926  0.023824  0.013668 -0.038026  AGGRESSIVE   \n",
            "3  2.330950 -7.621754  2.529024  0.056810 -0.180587 -0.052076  AGGRESSIVE   \n",
            "4  2.847215 -6.755621  2.224640 -0.031765 -0.035201  0.035277  AGGRESSIVE   \n",
            "\n",
            "   Timestamp  \n",
            "0     818922  \n",
            "1     818923  \n",
            "2     818923  \n",
            "3     818924  \n",
            "4     818924  \n"
          ]
        }
      ]
    },
    {
      "cell_type": "code",
      "source": [
        "# Identify categorical columns\n",
        "categorical_cols = data.select_dtypes(include=['object']).columns"
      ],
      "metadata": {
        "id": "LUUzLxfp7pmw"
      },
      "execution_count": null,
      "outputs": []
    },
    {
      "cell_type": "code",
      "source": [
        "# Encode categorical data using LabelEncoder\n",
        "label_encoders = {}\n",
        "for col in categorical_cols:\n",
        "    label_encoders[col] = LabelEncoder()\n",
        "    data[col] = label_encoders[col].fit_transform(data[col])"
      ],
      "metadata": {
        "id": "Kk5OI5Jb7t3k"
      },
      "execution_count": null,
      "outputs": []
    },
    {
      "cell_type": "code",
      "source": [
        "# Normalize the data (only numeric columns)\n",
        "scaler = MinMaxScaler(feature_range=(0, 1))\n",
        "scaled_data = scaler.fit_transform(data)"
      ],
      "metadata": {
        "id": "98zGSb7G7wAd"
      },
      "execution_count": null,
      "outputs": []
    },
    {
      "cell_type": "code",
      "source": [
        "# Convert the data into a format suitable for LSTM (e.g., X and y)\n",
        "def create_dataset(dataset, time_step=1):\n",
        "    X, y = [], []\n",
        "    for i in range(len(dataset)-time_step-1):\n",
        "        a = dataset[i:(i+time_step), 0]\n",
        "        X.append(a)\n",
        "        y.append(dataset[i + time_step, 0])\n",
        "    return np.array(X), np.array(y)"
      ],
      "metadata": {
        "id": "fKiVWH2d7yJK"
      },
      "execution_count": null,
      "outputs": []
    },
    {
      "cell_type": "code",
      "source": [
        "time_step = 10  # This can be adjusted depending on your dataset\n",
        "X, y = create_dataset(scaled_data, time_step)\n"
      ],
      "metadata": {
        "id": "mWp99wa470N1"
      },
      "execution_count": null,
      "outputs": []
    },
    {
      "cell_type": "code",
      "source": [
        "# Reshape X for LSTM [samples, time steps, features]\n",
        "X = np.reshape(X, (X.shape[0], X.shape[1], 1))"
      ],
      "metadata": {
        "id": "zAzYL_2L72r7"
      },
      "execution_count": null,
      "outputs": []
    },
    {
      "cell_type": "code",
      "source": [
        "# Split the data into training and testing sets\n",
        "X_train, X_test, y_train, y_test = train_test_split(X, y, test_size=0.2, random_state=42)"
      ],
      "metadata": {
        "id": "oIgWnqd074aN"
      },
      "execution_count": null,
      "outputs": []
    },
    {
      "cell_type": "code",
      "source": [
        "# Define the LSTM model with correct activation function\n",
        "from keras.models import Sequentialc\n",
        "from keras.layers import LSTM, Dense\n",
        "from keras.optimizers import Adam\n",
        "\n",
        "#LSTM layer with tanh activation function\n",
        "model = Sequential()\n",
        "model.add(LSTM(50, activation='tanh', input_shape=(timesteps, features)))  # LSTM layer with tanh activation\n",
        "model.add(Dense(1, activation='sigmoid'))  # Output layer with sigmoid activation for binary classification\n",
        "\n",
        "# Compile the model with learning rate included\n",
        "learning_rate = 0.001  # Setting the learning rate\n",
        "optimizer = Adam(learning_rate=learning_rate)\n",
        "model.compile(optimizer=optimizer, loss='binary_crossentropy', metrics=['accuracy'])\n",
        "\n",
        "# Train the model\n",
        "history = model.fit(X_train, y_train, epochs=10, batch_size=32, validation_data=(X_test, y_test))"
      ],
      "metadata": {
        "id": "KshNoC_S77KT"
      },
      "execution_count": null,
      "outputs": []
    },
    {
      "cell_type": "code",
      "source": [
        "# Compile the model\n",
        "model.compile(optimizer='adam', loss='mean_squared_error')"
      ],
      "metadata": {
        "id": "yYr4GKyX7_0_"
      },
      "execution_count": null,
      "outputs": []
    },
    {
      "cell_type": "code",
      "source": [
        "# Train the model\n",
        "model.fit(X_train, y_train, batch_size=1, epochs=10)\n"
      ],
      "metadata": {
        "colab": {
          "base_uri": "https://localhost:8080/"
        },
        "id": "avLHtQ3179IJ",
        "outputId": "2946797d-b35d-4ec1-953f-25942f5dcaad"
      },
      "execution_count": null,
      "outputs": [
        {
          "output_type": "stream",
          "name": "stdout",
          "text": [
            "Epoch 1/10\n",
            "2458/2458 [==============================] - 23s 7ms/step - loss: 0.0085\n",
            "Epoch 2/10\n",
            "2458/2458 [==============================] - 20s 8ms/step - loss: 0.0074\n",
            "Epoch 3/10\n",
            "2458/2458 [==============================] - 19s 8ms/step - loss: 0.0073\n",
            "Epoch 4/10\n",
            "2458/2458 [==============================] - 19s 8ms/step - loss: 0.0071\n",
            "Epoch 5/10\n",
            "2458/2458 [==============================] - 21s 8ms/step - loss: 0.0071\n",
            "Epoch 6/10\n",
            "2458/2458 [==============================] - 19s 8ms/step - loss: 0.0072\n",
            "Epoch 7/10\n",
            "2458/2458 [==============================] - 22s 9ms/step - loss: 0.0070\n",
            "Epoch 8/10\n",
            "2458/2458 [==============================] - 19s 8ms/step - loss: 0.0071\n",
            "Epoch 9/10\n",
            "2458/2458 [==============================] - 20s 8ms/step - loss: 0.0070\n",
            "Epoch 10/10\n",
            "2458/2458 [==============================] - 20s 8ms/step - loss: 0.0070\n"
          ]
        },
        {
          "output_type": "execute_result",
          "data": {
            "text/plain": [
              "<keras.callbacks.History at 0x7e4cd627bca0>"
            ]
          },
          "metadata": {},
          "execution_count": 16
        }
      ]
    },
    {
      "cell_type": "markdown",
      "source": [],
      "metadata": {
        "id": "qR_bZm_9ELAj"
      }
    },
    {
      "cell_type": "code",
      "source": [
        "# Evaluate the model\n",
        "predictions = model.predict(X_test)\n"
      ],
      "metadata": {
        "id": "Q-v4z_Rp82m3"
      },
      "execution_count": null,
      "outputs": []
    },
    {
      "cell_type": "code",
      "source": [
        "# Create a dummy array with the same shape as the original scaled data\n",
        "# Fill all columns with zeros, except the prediction column\n",
        "dummy = np.zeros((predictions.shape[0], scaled_data.shape[1]))\n",
        "dummy[:, 0] = predictions[:, 0]\n"
      ],
      "metadata": {
        "id": "_m-dUIM19LTy"
      },
      "execution_count": null,
      "outputs": []
    },
    {
      "cell_type": "code",
      "source": [
        "# Apply inverse transform\n",
        "predictions_rescaled = scaler.inverse_transform(dummy)\n"
      ],
      "metadata": {
        "id": "eTaNmT3j9OaS"
      },
      "execution_count": null,
      "outputs": []
    },
    {
      "cell_type": "code",
      "source": [
        "# Extract the first column, which corresponds to the inverse-transformed predictions\n",
        "predictions_rescaled = predictions_rescaled[:, 0]\n"
      ],
      "metadata": {
        "id": "-B1GvzVH9QdA"
      },
      "execution_count": null,
      "outputs": []
    },
    {
      "cell_type": "code",
      "source": [
        "# Now, predictions_rescaled contains the inverse-transformed predictions\n",
        "print(predictions_rescaled)"
      ],
      "metadata": {
        "colab": {
          "base_uri": "https://localhost:8080/"
        },
        "id": "qiW09o9A9Sn8",
        "outputId": "f62fbe1f-15dc-4860-d21d-afe5aa7608da"
      },
      "execution_count": null,
      "outputs": [
        {
          "output_type": "stream",
          "name": "stdout",
          "text": [
            "[-1.38860567e-01  3.70165332e-01  2.94547376e-01  4.18486467e-01\n",
            " -5.53522552e-01  5.59221881e-01  2.20780025e-01 -8.95178141e-02\n",
            "  4.76618715e-01 -1.87757042e-01  3.86159183e-01  1.48950810e-01\n",
            "  4.93965459e-01  5.90598146e-01  4.66430645e-01 -2.38611151e-02\n",
            "  8.84450092e-02  2.56657736e-01  7.91094711e-01  5.68930129e-01\n",
            "  8.30037263e-02 -5.87977102e-02  1.77037324e-01  3.41569606e-01\n",
            "  3.32813654e-01  2.66495363e-01 -2.90514646e-01  4.69304785e-01\n",
            "  2.49142646e+00  1.65092667e+00 -3.74526623e-02  1.70013779e-01\n",
            "  3.33612293e-01  3.31965500e-01  6.47068268e-01  8.05301836e-02\n",
            "  1.02408372e+00  1.32797551e-01 -5.92538924e-02  4.95547083e-01\n",
            "  5.63672201e-02 -1.70563955e-01  1.04111099e-01  2.18366221e-01\n",
            "  1.21352104e-01  2.41315254e-01  1.32276506e-02  9.78341213e-02\n",
            "  1.57335874e-01  1.41464694e-01 -3.65869051e-01 -1.66567888e-01\n",
            "  5.61937890e-01  5.51421420e-01 -7.92383800e-02  2.25501895e-01\n",
            "  2.80002894e-01  1.66022823e-01 -7.18832401e-02 -2.65887514e-01\n",
            " -2.53146369e-02  1.11099985e+00  1.05291487e-01  2.06036203e-01\n",
            " -3.53642856e-01  7.12271660e-01  1.04168601e-01  1.08238143e-01\n",
            "  2.79448639e-01  4.83134326e-01 -2.59039669e-01  6.98158761e-01\n",
            " -5.22450421e-02  1.61265814e-01 -3.34795961e-02  9.88931490e-01\n",
            "  1.77035408e-01  4.42688723e-01  1.12713074e-01  2.00619423e+00\n",
            "  2.12333626e-01  9.37044914e-01  3.98983718e-01  6.70826162e-01\n",
            " -7.50855870e-01  6.54563636e-02  4.53149289e-01  1.47957304e-01\n",
            "  7.15435852e-02  5.94239937e-01  2.79072001e-01  4.90929036e-01\n",
            "  3.18581599e-01 -1.58083473e-01  2.10696417e-01 -4.27096821e-01\n",
            "  4.57725806e-01  1.39978876e+00  2.58090813e-01  3.15061201e-01\n",
            "  4.61187731e-02  3.62955864e-01  2.96188418e-01  3.85793726e-01\n",
            " -2.00867809e-01 -2.09530160e-01  1.70396487e-01 -2.37531392e-02\n",
            " -6.99834519e-03 -2.14188790e-02  4.95920846e-01 -4.13949955e-01\n",
            " -5.46096812e-01  1.49188804e-01  6.45340014e-01  1.05116714e+00\n",
            "  2.82005240e-01 -4.68886691e-01  2.04607458e-03 -4.60642200e-02\n",
            "  1.66833601e-01 -1.78269537e-01 -8.95606518e-01 -3.55183269e-01\n",
            "  2.56108273e-01  2.06591736e-01  6.50580028e-02  6.94649864e-01\n",
            "  2.10702168e-01  8.25226598e-01  9.78015369e-02  2.94452178e-01\n",
            "  2.70715675e-02  1.45979461e+00  3.62622978e-02  6.55883319e-01\n",
            " -1.11864354e-01  1.12711829e+00 -3.58327042e-02  3.78882629e-01\n",
            "  7.51408134e-01  7.29337603e-01 -2.43873846e-01 -4.92577819e-01\n",
            "  1.70660357e-01  3.67195675e-01  9.64004057e-02 -3.53784694e-01\n",
            " -1.94798476e-01  1.12218654e+00  3.78633454e-01  2.53435709e-01\n",
            "  4.29050536e-01  2.76028550e-01  4.38084733e-01  1.08058067e+00\n",
            "  2.67341920e-01  6.24636752e-01 -5.26699177e-02  9.03968814e-02\n",
            "  3.78955146e-01  6.02035593e-02  3.00441647e-01 -1.30402029e-01\n",
            " -2.59755900e-02  5.65105610e-01  5.44548658e-01  6.47675233e-01\n",
            "  2.37543432e-02  8.29777559e-01  4.95131472e-01  2.26489331e-01\n",
            "  6.16034126e-02  7.91884711e-02 -2.43180628e-01  1.90078450e-01\n",
            "  3.29024914e-01 -1.08059335e-02  1.66414156e-01  4.23307368e-01\n",
            "  1.26172047e-01  1.43734743e-01  4.87186936e-01  5.47998776e-01\n",
            "  4.35812128e-01  1.03062008e-01 -8.57421714e-02  9.94436983e-01\n",
            "  5.21171555e-01  1.10188898e+00  2.23778433e-01 -1.36425040e-01\n",
            " -3.30231571e-01  3.35919706e-02  3.80305483e-01  6.24571583e-01\n",
            "  2.01191024e-01 -1.56968255e-01  8.29983927e-01  6.35898192e-01\n",
            "  1.75623415e-01  1.17457944e-01  2.63007869e-01 -8.73406927e-01\n",
            " -1.29081720e-01 -1.43182798e-01  8.23082720e-02  3.21303998e-01\n",
            "  3.69272135e-01 -2.32791301e-01  3.56745332e-01  1.93429122e+00\n",
            "  7.07931846e-02  2.26861177e-01  9.74357605e-02  6.26603319e-01\n",
            " -1.65560645e-01 -5.67308341e-02 -3.02277630e-01  4.99001992e-01\n",
            "  3.58163394e-01  6.24732896e-02  3.12818944e-01  2.82446727e-01\n",
            "  3.23000625e-01  2.07160366e-01  3.87426143e-01  5.68043321e-01\n",
            "  2.10422005e-01  3.16982393e-02  4.29021785e-01  1.98130322e-01\n",
            "  6.00671519e-02  1.36279294e-01 -3.79949365e-01  2.64024696e-01\n",
            "  1.41381635e-01  9.36529952e-01  1.51549899e-01  4.08143142e-01\n",
            "  1.01045064e+00  3.17680416e-01  5.90840932e-01  1.58187223e-01\n",
            "  2.90172435e-01  1.02308732e-01 -8.93967533e-03  3.35848161e-01\n",
            "  4.41338705e-01 -8.19811903e-01  9.66233855e-02  6.27999978e-01\n",
            " -1.05004690e-01 -4.78787571e-01  1.65163808e-01 -2.95671613e-01\n",
            "  2.68517835e-01 -1.08207869e-01 -1.95235811e-01  3.48143358e-01\n",
            " -3.20548879e-01  5.57637689e-02  2.63196028e-01  3.04431005e-01\n",
            "  8.13361694e-02  2.47890923e-01  3.77373203e-01  2.55473515e-01\n",
            " -1.78202132e-01  2.30146456e-01  6.47353529e-02  2.37673782e-01\n",
            "  4.08119809e-02 -4.21048905e-02  1.75663530e-04  8.07320793e-02\n",
            " -2.47517693e-03  3.42494429e-01  2.61430399e-01  3.40425636e-01\n",
            "  4.16129206e-01  1.14242020e+00  1.66333641e-02  6.48767131e-01\n",
            "  2.02496638e-01  6.63623722e-01 -1.68499315e-01  5.45240598e-01\n",
            "  3.03182893e-01  3.23450515e+00 -1.52917881e-01  2.52321768e-01\n",
            "  8.74281829e-02  3.32944950e-01 -6.51938119e-01  5.56701685e-02\n",
            "  8.51919827e-03  1.37695759e-01  1.83741959e+00  1.30457221e-01\n",
            "  8.70005293e-01 -9.72917600e-02  8.24232759e-02  3.57644918e-01\n",
            "  2.37952986e-01 -4.03082736e-02  5.38935828e-01  6.48436482e-02\n",
            " -2.44006739e-01 -1.59623887e-01  1.37918420e-01  1.66168176e-01\n",
            "  3.46485704e-01  2.61044816e-01  2.25180523e-01  2.68802789e-01\n",
            "  3.45561520e-01  3.56492643e-01  1.01017174e-01  6.74214944e-01\n",
            "  1.76071930e-01  5.85276659e-01  1.98558425e+00 -1.67970936e-01\n",
            " -3.87058856e-02  2.47447838e-01  1.62317461e-01 -2.44434822e-02\n",
            "  4.96124339e-01  5.66473824e-02  7.07110846e-02  5.11485669e-01\n",
            "  2.45818935e-01  1.17071403e-01 -1.90961498e-01  3.79414203e-01\n",
            "  3.42245254e-01  1.09218232e-01  2.26399245e-01  1.84662084e-01\n",
            "  4.63050168e-01  2.13229698e-01  8.20172482e-02 -1.43573185e-02\n",
            "  6.39238417e-01 -1.09003312e-01  1.47535623e-01 -7.00153847e-02\n",
            "  3.06184496e-01  3.00971291e-02  3.12786679e-01  2.20894071e-01\n",
            "  9.09699843e-02  1.31979425e-01  1.05919122e+00 -6.05796321e-02\n",
            "  2.73766474e-02  3.22354047e-01 -2.88589927e-01  2.05013946e-01\n",
            " -4.97628741e-02  2.73084449e-01 -1.06203299e-02  2.37509871e+00\n",
            "  6.53199894e-01  4.60678851e-01  8.35025571e-01  3.33065385e-01\n",
            "  3.28685972e-01  6.43571050e-03 -1.63051004e-01  1.85104211e-01\n",
            " -4.49768567e-01  4.44160774e-01 -3.78863216e-01  3.05115598e-01\n",
            "  2.14922492e-01  8.14643681e-01 -1.25510209e-01  8.04605423e-02\n",
            " -3.29045765e-02  9.57480779e-02  8.69808508e-01  1.72019639e-01\n",
            " -5.52862570e-02  2.17771395e-01  4.57011184e-01 -2.82518678e-01\n",
            "  1.55753931e-01  3.60532475e-01  1.76016332e-02  1.59120991e-01\n",
            "  7.37417574e-02  3.84107641e-01  3.76868783e-01  1.69675476e-01\n",
            " -2.23387813e-01  1.04793456e-01  3.72583596e-02  4.37988577e-01\n",
            "  3.00619890e-02  1.16750895e+00  4.17408305e-01 -3.93125620e-01\n",
            " -5.73393965e-02 -1.76319901e-01 -7.74555303e-01  1.75303960e-01\n",
            "  1.05641291e-01 -3.22769094e-01  3.22769339e-01 -9.68646469e-01\n",
            "  9.90966088e-02  3.00734268e-01  5.18216899e-02  6.61243447e-02\n",
            "  2.45020617e-01  4.68717306e-01 -3.15315242e-01  8.73758254e-01\n",
            "  3.43566202e-01 -1.42354131e-01  3.06710639e-01 -1.07861272e-02\n",
            "  3.15979635e-01  2.48542931e-01  9.94173420e-02  4.94365098e-01\n",
            "  9.14348889e-01  5.97281152e-01 -2.05256818e-02  8.39876488e-02\n",
            " -8.12528654e-02  2.18653092e-01  1.79123048e-01  1.95007646e-01\n",
            "  2.87021967e-01  2.95204995e-03 -1.14309785e-01  1.60759446e+00\n",
            "  1.09726327e+00  2.85473886e-01  6.57093722e-02  1.73485620e-01\n",
            "  6.25102518e-01  2.63135013e-01  3.62552698e-02  4.60566084e-01\n",
            " -1.81811990e-02 -4.50809033e-01  4.01303283e-01  3.39427326e-02\n",
            "  3.37180928e-01  2.04465121e-01  3.53423635e-01 -2.50133905e-02\n",
            "  2.67581831e-01  1.76767704e-01  4.95807439e-01 -5.05164692e-02\n",
            "  3.65292679e-01  7.34014429e-01 -1.82457916e-01 -8.03162223e-02\n",
            "  4.38378951e-01  3.35846883e-01  3.85443923e-01 -2.33299235e-01\n",
            "  4.24037962e-01  2.65667016e-01  4.30600533e-01  3.56949464e-01\n",
            "  1.45100415e-01  3.16155975e-01  4.38819468e-02  2.05920241e-01\n",
            "  3.35199027e-01  2.93105994e-01 -6.90570186e-02 -2.47469648e-02\n",
            " -1.77340561e-01  9.11913541e-03  6.73896767e-01  1.46056225e-01\n",
            "  4.61674274e-01  4.77331100e-01  6.53383900e-01  2.62365764e-01\n",
            "  4.41239355e-01  7.83268055e-01  2.91433645e-01  2.29363471e-01\n",
            " -5.65385219e-02  2.56672431e-01  2.94802621e-01  4.92577413e-02\n",
            "  4.30274369e-01  9.82698584e-02  2.59142140e-01  1.47024175e-01\n",
            "  2.35293201e-01  1.10219086e-01  2.10321696e-01  1.36505149e-01\n",
            "  3.34204563e-01  3.65066812e-02  6.53702077e-01  2.36233678e-01\n",
            "  1.83011139e-01 -4.11130762e-01  4.51479176e-01  3.40744133e-01\n",
            " -2.80657864e-02  4.62433607e-02  6.10488382e-02 -3.34480646e-01\n",
            "  1.00703469e-01 -2.66538244e-01  9.82035088e-01 -4.86473360e-02\n",
            " -2.02859293e-01 -9.20581230e-02  1.76888778e-01 -2.37180617e-01\n",
            "  1.50006278e-02 -4.21774068e-02  3.18293450e-01  2.31128781e-01\n",
            " -8.97478219e-02 -3.12687722e-01 -8.12315564e-01  1.35499823e-01\n",
            "  5.16778405e-01 -1.30897197e-02  2.04916512e-01  1.81430794e-01\n",
            " -4.88719131e-02  1.53972968e-01  6.24700643e-01  1.47951873e-01\n",
            "  2.22497737e-01 -1.46149900e-01 -2.51889619e-01  4.79576232e-01\n",
            "  1.35244898e-01  1.20717027e-01  4.28103670e-01  6.99165991e-02\n",
            "  4.47066220e-01  8.19019248e-02  2.56602470e-01  1.73283085e-01\n",
            "  2.22053694e-01  6.08426310e-01  1.19328994e-01 -1.89721053e-01\n",
            " -7.26152388e-01 -1.08675883e-02  3.72960566e-01  6.32516438e-01\n",
            "  3.01322385e-01  2.26011107e-01  3.74721404e-01  1.00034849e-01\n",
            "  3.93953894e-01  8.90245012e-02  2.74258435e-02  2.68894792e-01\n",
            "  2.14062518e-01  2.63531776e-01  2.35962780e-01  2.02232767e-01\n",
            "  2.62793515e-01  3.19831947e-01  1.29270605e+00  2.79626895e-01\n",
            "  2.75588340e-01  5.40090978e-01  1.58360848e+00 -5.91944737e-02\n",
            " -1.68615277e-01 -5.07716169e-01  2.17554165e-01  3.51850944e-02\n",
            "  2.17521261e-01 -2.25367797e-01 -5.54084793e-01  8.45623183e-01\n",
            " -1.87779723e-01 -9.00575965e-01  1.10829215e+00  4.22973856e-01\n",
            "  1.09948349e+00  3.17929271e-01  3.77652087e-01  3.04811796e-01\n",
            "  2.29417779e-01  8.99045061e-01  6.79116667e-01  9.41944081e-01\n",
            "  1.98527405e-01  3.76405892e-01 -5.02494045e-02  5.65523457e-01\n",
            "  5.95772045e-01 -9.15361636e-01 -1.03756578e-01  1.39034916e-01\n",
            " -2.70620577e-02  4.97098039e-01  2.21470368e-01  1.36878273e-01\n",
            "  3.63250401e-01  3.23191340e-01 -8.08679217e-02]\n"
          ]
        }
      ]
    },
    {
      "cell_type": "code",
      "source": [
        "# HMM Model using hmmlearn\n",
        "n_components = 4  # Number of states in HMM\n",
        "hmm_model = hmm.GaussianHMM(n_components=n_components, covariance_type=\"diag\", n_iter=1000)\n",
        "hmm_model.fit(scaled_data)"
      ],
      "metadata": {
        "colab": {
          "base_uri": "https://localhost:8080/",
          "height": 74
        },
        "id": "c_wQDGdB9ZbF",
        "outputId": "ff9d0978-f753-46c1-859b-b39ca68f3c48"
      },
      "execution_count": null,
      "outputs": [
        {
          "output_type": "execute_result",
          "data": {
            "text/plain": [
              "GaussianHMM(n_components=4, n_iter=1000)"
            ],
            "text/html": [
              "<style>#sk-container-id-1 {color: black;}#sk-container-id-1 pre{padding: 0;}#sk-container-id-1 div.sk-toggleable {background-color: white;}#sk-container-id-1 label.sk-toggleable__label {cursor: pointer;display: block;width: 100%;margin-bottom: 0;padding: 0.3em;box-sizing: border-box;text-align: center;}#sk-container-id-1 label.sk-toggleable__label-arrow:before {content: \"▸\";float: left;margin-right: 0.25em;color: #696969;}#sk-container-id-1 label.sk-toggleable__label-arrow:hover:before {color: black;}#sk-container-id-1 div.sk-estimator:hover label.sk-toggleable__label-arrow:before {color: black;}#sk-container-id-1 div.sk-toggleable__content {max-height: 0;max-width: 0;overflow: hidden;text-align: left;background-color: #f0f8ff;}#sk-container-id-1 div.sk-toggleable__content pre {margin: 0.2em;color: black;border-radius: 0.25em;background-color: #f0f8ff;}#sk-container-id-1 input.sk-toggleable__control:checked~div.sk-toggleable__content {max-height: 200px;max-width: 100%;overflow: auto;}#sk-container-id-1 input.sk-toggleable__control:checked~label.sk-toggleable__label-arrow:before {content: \"▾\";}#sk-container-id-1 div.sk-estimator input.sk-toggleable__control:checked~label.sk-toggleable__label {background-color: #d4ebff;}#sk-container-id-1 div.sk-label input.sk-toggleable__control:checked~label.sk-toggleable__label {background-color: #d4ebff;}#sk-container-id-1 input.sk-hidden--visually {border: 0;clip: rect(1px 1px 1px 1px);clip: rect(1px, 1px, 1px, 1px);height: 1px;margin: -1px;overflow: hidden;padding: 0;position: absolute;width: 1px;}#sk-container-id-1 div.sk-estimator {font-family: monospace;background-color: #f0f8ff;border: 1px dotted black;border-radius: 0.25em;box-sizing: border-box;margin-bottom: 0.5em;}#sk-container-id-1 div.sk-estimator:hover {background-color: #d4ebff;}#sk-container-id-1 div.sk-parallel-item::after {content: \"\";width: 100%;border-bottom: 1px solid gray;flex-grow: 1;}#sk-container-id-1 div.sk-label:hover label.sk-toggleable__label {background-color: #d4ebff;}#sk-container-id-1 div.sk-serial::before {content: \"\";position: absolute;border-left: 1px solid gray;box-sizing: border-box;top: 0;bottom: 0;left: 50%;z-index: 0;}#sk-container-id-1 div.sk-serial {display: flex;flex-direction: column;align-items: center;background-color: white;padding-right: 0.2em;padding-left: 0.2em;position: relative;}#sk-container-id-1 div.sk-item {position: relative;z-index: 1;}#sk-container-id-1 div.sk-parallel {display: flex;align-items: stretch;justify-content: center;background-color: white;position: relative;}#sk-container-id-1 div.sk-item::before, #sk-container-id-1 div.sk-parallel-item::before {content: \"\";position: absolute;border-left: 1px solid gray;box-sizing: border-box;top: 0;bottom: 0;left: 50%;z-index: -1;}#sk-container-id-1 div.sk-parallel-item {display: flex;flex-direction: column;z-index: 1;position: relative;background-color: white;}#sk-container-id-1 div.sk-parallel-item:first-child::after {align-self: flex-end;width: 50%;}#sk-container-id-1 div.sk-parallel-item:last-child::after {align-self: flex-start;width: 50%;}#sk-container-id-1 div.sk-parallel-item:only-child::after {width: 0;}#sk-container-id-1 div.sk-dashed-wrapped {border: 1px dashed gray;margin: 0 0.4em 0.5em 0.4em;box-sizing: border-box;padding-bottom: 0.4em;background-color: white;}#sk-container-id-1 div.sk-label label {font-family: monospace;font-weight: bold;display: inline-block;line-height: 1.2em;}#sk-container-id-1 div.sk-label-container {text-align: center;}#sk-container-id-1 div.sk-container {/* jupyter's `normalize.less` sets `[hidden] { display: none; }` but bootstrap.min.css set `[hidden] { display: none !important; }` so we also need the `!important` here to be able to override the default hidden behavior on the sphinx rendered scikit-learn.org. See: https://github.com/scikit-learn/scikit-learn/issues/21755 */display: inline-block !important;position: relative;}#sk-container-id-1 div.sk-text-repr-fallback {display: none;}</style><div id=\"sk-container-id-1\" class=\"sk-top-container\"><div class=\"sk-text-repr-fallback\"><pre>GaussianHMM(n_components=4, n_iter=1000)</pre><b>In a Jupyter environment, please rerun this cell to show the HTML representation or trust the notebook. <br />On GitHub, the HTML representation is unable to render, please try loading this page with nbviewer.org.</b></div><div class=\"sk-container\" hidden><div class=\"sk-item\"><div class=\"sk-estimator sk-toggleable\"><input class=\"sk-toggleable__control sk-hidden--visually\" id=\"sk-estimator-id-1\" type=\"checkbox\" checked><label for=\"sk-estimator-id-1\" class=\"sk-toggleable__label sk-toggleable__label-arrow\">GaussianHMM</label><div class=\"sk-toggleable__content\"><pre>GaussianHMM(n_components=4, n_iter=1000)</pre></div></div></div></div></div>"
            ]
          },
          "metadata": {},
          "execution_count": 24
        }
      ]
    },
    {
      "cell_type": "code",
      "source": [
        "# Predict states or classify driving behavior using HMM\n",
        "hidden_states = hmm_model.predict(scaled_data)\n",
        "print(\"Hidden states:\\n\", hidden_states)"
      ],
      "metadata": {
        "colab": {
          "base_uri": "https://localhost:8080/"
        },
        "id": "iun_Hnsh9c3A",
        "outputId": "06da884a-1c14-4c14-fe69-40133945de2c"
      },
      "execution_count": null,
      "outputs": [
        {
          "output_type": "stream",
          "name": "stdout",
          "text": [
            "Hidden states:\n",
            " [2 2 2 ... 3 3 3]\n"
          ]
        }
      ]
    },
    {
      "cell_type": "code",
      "source": [
        "# Evaluate the model\n",
        "predictions = model.predict(X_test)"
      ],
      "metadata": {
        "id": "_1NpPJUw-cnP"
      },
      "execution_count": null,
      "outputs": []
    },
    {
      "cell_type": "code",
      "source": [
        "# Ensure that the scaler fits the same number of features as predictions\n",
        "# If predictions are a single feature, reshape them accordingly\n",
        "predictions = np.reshape(predictions, (-1, 1))"
      ],
      "metadata": {
        "id": "w9ETIWRJ-sPk"
      },
      "execution_count": null,
      "outputs": []
    },
    {
      "cell_type": "code",
      "source": [
        "# Define criteria for safety\n",
        "def classify_safety(predictions, threshold=0.5):\n",
        "    if np.mean(predictions) > threshold:\n",
        "        return \"Not Safe\"\n",
        "    else:\n",
        "        return \"Safe\"\n"
      ],
      "metadata": {
        "id": "C1OMzNHL-xm2"
      },
      "execution_count": null,
      "outputs": []
    },
    {
      "cell_type": "code",
      "source": [
        "# Apply the safety classification\n",
        "safety_status = classify_safety(predictions)\n",
        "print(\"Driving behavior is:\", safety_status)\n"
      ],
      "metadata": {
        "colab": {
          "base_uri": "https://localhost:8080/"
        },
        "id": "zVpoIE70-3ry",
        "outputId": "aa4cbec2-4549-4562-8c8a-18720c0ac204"
      },
      "execution_count": null,
      "outputs": [
        {
          "output_type": "stream",
          "name": "stdout",
          "text": [
            "Driving behavior is: Safe\n"
          ]
        }
      ]
    },
    {
      "cell_type": "code",
      "source": [
        "# HMM Model using hmmlearn\n",
        "n_components = 4  # Number of states in HMM\n",
        "hmm_model = hmm.GaussianHMM(n_components=n_components, covariance_type=\"diag\", n_iter=1000)\n",
        "hmm_model.fit(scaled_data)"
      ],
      "metadata": {
        "colab": {
          "base_uri": "https://localhost:8080/",
          "height": 74
        },
        "id": "h6swu_XP-6SX",
        "outputId": "142a8918-de07-442d-d794-24a7a5d746be"
      },
      "execution_count": null,
      "outputs": [
        {
          "output_type": "execute_result",
          "data": {
            "text/plain": [
              "GaussianHMM(n_components=4, n_iter=1000)"
            ],
            "text/html": [
              "<style>#sk-container-id-2 {color: black;}#sk-container-id-2 pre{padding: 0;}#sk-container-id-2 div.sk-toggleable {background-color: white;}#sk-container-id-2 label.sk-toggleable__label {cursor: pointer;display: block;width: 100%;margin-bottom: 0;padding: 0.3em;box-sizing: border-box;text-align: center;}#sk-container-id-2 label.sk-toggleable__label-arrow:before {content: \"▸\";float: left;margin-right: 0.25em;color: #696969;}#sk-container-id-2 label.sk-toggleable__label-arrow:hover:before {color: black;}#sk-container-id-2 div.sk-estimator:hover label.sk-toggleable__label-arrow:before {color: black;}#sk-container-id-2 div.sk-toggleable__content {max-height: 0;max-width: 0;overflow: hidden;text-align: left;background-color: #f0f8ff;}#sk-container-id-2 div.sk-toggleable__content pre {margin: 0.2em;color: black;border-radius: 0.25em;background-color: #f0f8ff;}#sk-container-id-2 input.sk-toggleable__control:checked~div.sk-toggleable__content {max-height: 200px;max-width: 100%;overflow: auto;}#sk-container-id-2 input.sk-toggleable__control:checked~label.sk-toggleable__label-arrow:before {content: \"▾\";}#sk-container-id-2 div.sk-estimator input.sk-toggleable__control:checked~label.sk-toggleable__label {background-color: #d4ebff;}#sk-container-id-2 div.sk-label input.sk-toggleable__control:checked~label.sk-toggleable__label {background-color: #d4ebff;}#sk-container-id-2 input.sk-hidden--visually {border: 0;clip: rect(1px 1px 1px 1px);clip: rect(1px, 1px, 1px, 1px);height: 1px;margin: -1px;overflow: hidden;padding: 0;position: absolute;width: 1px;}#sk-container-id-2 div.sk-estimator {font-family: monospace;background-color: #f0f8ff;border: 1px dotted black;border-radius: 0.25em;box-sizing: border-box;margin-bottom: 0.5em;}#sk-container-id-2 div.sk-estimator:hover {background-color: #d4ebff;}#sk-container-id-2 div.sk-parallel-item::after {content: \"\";width: 100%;border-bottom: 1px solid gray;flex-grow: 1;}#sk-container-id-2 div.sk-label:hover label.sk-toggleable__label {background-color: #d4ebff;}#sk-container-id-2 div.sk-serial::before {content: \"\";position: absolute;border-left: 1px solid gray;box-sizing: border-box;top: 0;bottom: 0;left: 50%;z-index: 0;}#sk-container-id-2 div.sk-serial {display: flex;flex-direction: column;align-items: center;background-color: white;padding-right: 0.2em;padding-left: 0.2em;position: relative;}#sk-container-id-2 div.sk-item {position: relative;z-index: 1;}#sk-container-id-2 div.sk-parallel {display: flex;align-items: stretch;justify-content: center;background-color: white;position: relative;}#sk-container-id-2 div.sk-item::before, #sk-container-id-2 div.sk-parallel-item::before {content: \"\";position: absolute;border-left: 1px solid gray;box-sizing: border-box;top: 0;bottom: 0;left: 50%;z-index: -1;}#sk-container-id-2 div.sk-parallel-item {display: flex;flex-direction: column;z-index: 1;position: relative;background-color: white;}#sk-container-id-2 div.sk-parallel-item:first-child::after {align-self: flex-end;width: 50%;}#sk-container-id-2 div.sk-parallel-item:last-child::after {align-self: flex-start;width: 50%;}#sk-container-id-2 div.sk-parallel-item:only-child::after {width: 0;}#sk-container-id-2 div.sk-dashed-wrapped {border: 1px dashed gray;margin: 0 0.4em 0.5em 0.4em;box-sizing: border-box;padding-bottom: 0.4em;background-color: white;}#sk-container-id-2 div.sk-label label {font-family: monospace;font-weight: bold;display: inline-block;line-height: 1.2em;}#sk-container-id-2 div.sk-label-container {text-align: center;}#sk-container-id-2 div.sk-container {/* jupyter's `normalize.less` sets `[hidden] { display: none; }` but bootstrap.min.css set `[hidden] { display: none !important; }` so we also need the `!important` here to be able to override the default hidden behavior on the sphinx rendered scikit-learn.org. See: https://github.com/scikit-learn/scikit-learn/issues/21755 */display: inline-block !important;position: relative;}#sk-container-id-2 div.sk-text-repr-fallback {display: none;}</style><div id=\"sk-container-id-2\" class=\"sk-top-container\"><div class=\"sk-text-repr-fallback\"><pre>GaussianHMM(n_components=4, n_iter=1000)</pre><b>In a Jupyter environment, please rerun this cell to show the HTML representation or trust the notebook. <br />On GitHub, the HTML representation is unable to render, please try loading this page with nbviewer.org.</b></div><div class=\"sk-container\" hidden><div class=\"sk-item\"><div class=\"sk-estimator sk-toggleable\"><input class=\"sk-toggleable__control sk-hidden--visually\" id=\"sk-estimator-id-2\" type=\"checkbox\" checked><label for=\"sk-estimator-id-2\" class=\"sk-toggleable__label sk-toggleable__label-arrow\">GaussianHMM</label><div class=\"sk-toggleable__content\"><pre>GaussianHMM(n_components=4, n_iter=1000)</pre></div></div></div></div></div>"
            ]
          },
          "metadata": {},
          "execution_count": 32
        }
      ]
    },
    {
      "cell_type": "code",
      "source": [
        "# Predict states or classify driving behavior using HMM\n",
        "hidden_states = hmm_model.predict(scaled_data)"
      ],
      "metadata": {
        "id": "GfDbyg7R-8u4"
      },
      "execution_count": null,
      "outputs": []
    },
    {
      "cell_type": "code",
      "source": [
        "# Define a rule to classify safety based on hidden states\n",
        "def classify_safety_hmm(hidden_states, threshold=2):\n",
        "    if np.mean(hidden_states) > threshold:\n",
        "        return \"Not Safe\"\n",
        "    else:\n",
        "        return \"Safe\""
      ],
      "metadata": {
        "id": "vfogfC_a--4g"
      },
      "execution_count": null,
      "outputs": []
    },
    {
      "cell_type": "code",
      "source": [
        "# Apply the safety classification\n",
        "safety_status_hmm = classify_safety_hmm(hidden_states)\n",
        "print(\"Driving behavior (HMM) is:\", safety_status_hmm)"
      ],
      "metadata": {
        "colab": {
          "base_uri": "https://localhost:8080/"
        },
        "id": "OaMMb6c5_Ax2",
        "outputId": "8636a86d-4c2e-4ea1-9065-5187dc5d5ba3"
      },
      "execution_count": null,
      "outputs": [
        {
          "output_type": "stream",
          "name": "stdout",
          "text": [
            "Driving behavior (HMM) is: Not Safe\n"
          ]
        }
      ]
    },
    {
      "cell_type": "code",
      "source": [
        "pip install requests\n"
      ],
      "metadata": {
        "colab": {
          "base_uri": "https://localhost:8080/"
        },
        "id": "N57uETuA_C_g",
        "outputId": "1ffb914e-7f54-45c0-8940-e65ea7fff744"
      },
      "execution_count": null,
      "outputs": [
        {
          "output_type": "stream",
          "name": "stdout",
          "text": [
            "Requirement already satisfied: requests in /usr/local/lib/python3.10/dist-packages (2.32.3)\n",
            "Requirement already satisfied: charset-normalizer<4,>=2 in /usr/local/lib/python3.10/dist-packages (from requests) (3.3.2)\n",
            "Requirement already satisfied: idna<4,>=2.5 in /usr/local/lib/python3.10/dist-packages (from requests) (3.7)\n",
            "Requirement already satisfied: urllib3<3,>=1.21.1 in /usr/local/lib/python3.10/dist-packages (from requests) (2.0.7)\n",
            "Requirement already satisfied: certifi>=2017.4.17 in /usr/local/lib/python3.10/dist-packages (from requests) (2024.7.4)\n"
          ]
        }
      ]
    },
    {
      "cell_type": "code",
      "source": [
        "import requests"
      ],
      "metadata": {
        "id": "RdtgEu0t_eeg"
      },
      "execution_count": null,
      "outputs": []
    },
    {
      "cell_type": "code",
      "source": [
        "# Apply the safety classification\n",
        "safety_status = classify_safety(predictions)\n",
        "print(\"Driving behavior is:\", safety_status)\n",
        "\n",
        "# Function to send a Telegram message\n",
        "def send_telegram_message(token, chat_id, message):\n",
        "    url = f\"https://api.telegram.org/bot{token}/sendMessage\"\n",
        "    payload = {\n",
        "        'chat_id': chat_id,\n",
        "        'text': message\n",
        "    }\n",
        "    response = requests.post(url, data=payload)\n",
        "    return response.json()"
      ],
      "metadata": {
        "colab": {
          "base_uri": "https://localhost:8080/"
        },
        "id": "B9ssGVU7_h1P",
        "outputId": "a02ab252-77d5-4567-facf-1411f0a09e38"
      },
      "execution_count": null,
      "outputs": [
        {
          "output_type": "stream",
          "name": "stdout",
          "text": [
            "Driving behavior is: Safe\n"
          ]
        }
      ]
    },
    {
      "cell_type": "code",
      "source": [
        "# Define your Telegram bot token and chat ID\n",
        "TELEGRAM_TOKEN = 'YOUR_TELEGRAM_BOT_TOKEN'\n",
        "CHAT_ID = 'YOUR_CHAT_ID'"
      ],
      "metadata": {
        "id": "ydoFgjIw_nSI"
      },
      "execution_count": null,
      "outputs": []
    },
    {
      "cell_type": "code",
      "source": [
        "# Send a notification if the driving behavior is not safe\n",
        "if safety_status == \"Not Safe\":\n",
        "    message = \"STAY ALERT\"\n",
        "    response = send_telegram_message(TELEGRAM_TOKEN, CHAT_ID, message)\n",
        "    print(\"Telegram response:\", response)\n"
      ],
      "metadata": {
        "id": "zHHWbrYh_pr_"
      },
      "execution_count": null,
      "outputs": []
    },
    {
      "cell_type": "code",
      "source": [
        "# HMM Model using hmmlearn\n",
        "n_components = 4  # Number of states in HMM\n",
        "hmm_model = hmm.GaussianHMM(n_components=n_components, covariance_type=\"diag\", n_iter=1000)\n",
        "hmm_model.fit(scaled_data)\n"
      ],
      "metadata": {
        "colab": {
          "base_uri": "https://localhost:8080/",
          "height": 112
        },
        "id": "qlzNgFB6_riJ",
        "outputId": "97d7e2e6-ec89-4b09-bcec-4dde36a17b3f"
      },
      "execution_count": null,
      "outputs": [
        {
          "output_type": "stream",
          "name": "stderr",
          "text": [
            "WARNING:hmmlearn.base:Model is not converging.  Current: 44948.83196184222 is not greater than 44948.87679152607. Delta is -0.04482968385127606\n"
          ]
        },
        {
          "output_type": "execute_result",
          "data": {
            "text/plain": [
              "GaussianHMM(n_components=4, n_iter=1000)"
            ],
            "text/html": [
              "<style>#sk-container-id-3 {color: black;}#sk-container-id-3 pre{padding: 0;}#sk-container-id-3 div.sk-toggleable {background-color: white;}#sk-container-id-3 label.sk-toggleable__label {cursor: pointer;display: block;width: 100%;margin-bottom: 0;padding: 0.3em;box-sizing: border-box;text-align: center;}#sk-container-id-3 label.sk-toggleable__label-arrow:before {content: \"▸\";float: left;margin-right: 0.25em;color: #696969;}#sk-container-id-3 label.sk-toggleable__label-arrow:hover:before {color: black;}#sk-container-id-3 div.sk-estimator:hover label.sk-toggleable__label-arrow:before {color: black;}#sk-container-id-3 div.sk-toggleable__content {max-height: 0;max-width: 0;overflow: hidden;text-align: left;background-color: #f0f8ff;}#sk-container-id-3 div.sk-toggleable__content pre {margin: 0.2em;color: black;border-radius: 0.25em;background-color: #f0f8ff;}#sk-container-id-3 input.sk-toggleable__control:checked~div.sk-toggleable__content {max-height: 200px;max-width: 100%;overflow: auto;}#sk-container-id-3 input.sk-toggleable__control:checked~label.sk-toggleable__label-arrow:before {content: \"▾\";}#sk-container-id-3 div.sk-estimator input.sk-toggleable__control:checked~label.sk-toggleable__label {background-color: #d4ebff;}#sk-container-id-3 div.sk-label input.sk-toggleable__control:checked~label.sk-toggleable__label {background-color: #d4ebff;}#sk-container-id-3 input.sk-hidden--visually {border: 0;clip: rect(1px 1px 1px 1px);clip: rect(1px, 1px, 1px, 1px);height: 1px;margin: -1px;overflow: hidden;padding: 0;position: absolute;width: 1px;}#sk-container-id-3 div.sk-estimator {font-family: monospace;background-color: #f0f8ff;border: 1px dotted black;border-radius: 0.25em;box-sizing: border-box;margin-bottom: 0.5em;}#sk-container-id-3 div.sk-estimator:hover {background-color: #d4ebff;}#sk-container-id-3 div.sk-parallel-item::after {content: \"\";width: 100%;border-bottom: 1px solid gray;flex-grow: 1;}#sk-container-id-3 div.sk-label:hover label.sk-toggleable__label {background-color: #d4ebff;}#sk-container-id-3 div.sk-serial::before {content: \"\";position: absolute;border-left: 1px solid gray;box-sizing: border-box;top: 0;bottom: 0;left: 50%;z-index: 0;}#sk-container-id-3 div.sk-serial {display: flex;flex-direction: column;align-items: center;background-color: white;padding-right: 0.2em;padding-left: 0.2em;position: relative;}#sk-container-id-3 div.sk-item {position: relative;z-index: 1;}#sk-container-id-3 div.sk-parallel {display: flex;align-items: stretch;justify-content: center;background-color: white;position: relative;}#sk-container-id-3 div.sk-item::before, #sk-container-id-3 div.sk-parallel-item::before {content: \"\";position: absolute;border-left: 1px solid gray;box-sizing: border-box;top: 0;bottom: 0;left: 50%;z-index: -1;}#sk-container-id-3 div.sk-parallel-item {display: flex;flex-direction: column;z-index: 1;position: relative;background-color: white;}#sk-container-id-3 div.sk-parallel-item:first-child::after {align-self: flex-end;width: 50%;}#sk-container-id-3 div.sk-parallel-item:last-child::after {align-self: flex-start;width: 50%;}#sk-container-id-3 div.sk-parallel-item:only-child::after {width: 0;}#sk-container-id-3 div.sk-dashed-wrapped {border: 1px dashed gray;margin: 0 0.4em 0.5em 0.4em;box-sizing: border-box;padding-bottom: 0.4em;background-color: white;}#sk-container-id-3 div.sk-label label {font-family: monospace;font-weight: bold;display: inline-block;line-height: 1.2em;}#sk-container-id-3 div.sk-label-container {text-align: center;}#sk-container-id-3 div.sk-container {/* jupyter's `normalize.less` sets `[hidden] { display: none; }` but bootstrap.min.css set `[hidden] { display: none !important; }` so we also need the `!important` here to be able to override the default hidden behavior on the sphinx rendered scikit-learn.org. See: https://github.com/scikit-learn/scikit-learn/issues/21755 */display: inline-block !important;position: relative;}#sk-container-id-3 div.sk-text-repr-fallback {display: none;}</style><div id=\"sk-container-id-3\" class=\"sk-top-container\"><div class=\"sk-text-repr-fallback\"><pre>GaussianHMM(n_components=4, n_iter=1000)</pre><b>In a Jupyter environment, please rerun this cell to show the HTML representation or trust the notebook. <br />On GitHub, the HTML representation is unable to render, please try loading this page with nbviewer.org.</b></div><div class=\"sk-container\" hidden><div class=\"sk-item\"><div class=\"sk-estimator sk-toggleable\"><input class=\"sk-toggleable__control sk-hidden--visually\" id=\"sk-estimator-id-3\" type=\"checkbox\" checked><label for=\"sk-estimator-id-3\" class=\"sk-toggleable__label sk-toggleable__label-arrow\">GaussianHMM</label><div class=\"sk-toggleable__content\"><pre>GaussianHMM(n_components=4, n_iter=1000)</pre></div></div></div></div></div>"
            ]
          },
          "metadata": {},
          "execution_count": 41
        }
      ]
    },
    {
      "cell_type": "code",
      "source": [
        "# Predict states or classify driving behavior using HMM\n",
        "hidden_states = hmm_model.predict(scaled_data)"
      ],
      "metadata": {
        "id": "CtEnXDCS_uhx"
      },
      "execution_count": null,
      "outputs": []
    },
    {
      "cell_type": "code",
      "source": [
        "# Define a rule to classify safety based on hidden states\n",
        "def classify_safety_hmm(hidden_states, threshold=2):\n",
        "    if np.mean(hidden_states) > threshold:\n",
        "        return \"Not Safe\"\n",
        "    else:\n",
        "        return \"Safe\""
      ],
      "metadata": {
        "id": "2X_mEh1Z_wsw"
      },
      "execution_count": null,
      "outputs": []
    },
    {
      "cell_type": "code",
      "source": [
        "# Apply the safety classification\n",
        "safety_status_hmm = classify_safety_hmm(hidden_states)\n",
        "print(\"Driving behavior (HMM) is:\", safety_status_hmm)"
      ],
      "metadata": {
        "colab": {
          "base_uri": "https://localhost:8080/"
        },
        "id": "pztkjyiO_yjn",
        "outputId": "d2a090a9-8738-4a68-bbfd-65033dc68428"
      },
      "execution_count": null,
      "outputs": [
        {
          "output_type": "stream",
          "name": "stdout",
          "text": [
            "Driving behavior (HMM) is: Safe\n"
          ]
        }
      ]
    },
    {
      "cell_type": "code",
      "source": [],
      "metadata": {
        "id": "24yMgJO5_0PD"
      },
      "execution_count": null,
      "outputs": []
    }
  ]
}